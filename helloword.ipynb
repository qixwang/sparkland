{
  "cells": [
  {
   "cell_type": "markdown",
   "metadata": {},
   "source": [
    "# JupyterHub Showcase: DevOps Intelligence\n",
    "\n",
    "<img src=\"img/jhub-devops-intelligence.png\" style=\"width: 95%; margin: 0;\"></img>\n",
    "\n",
    "<img src=\"https://avatars3.githubusercontent.com/u/1068245?s=40\" alt=\"Avatar\" style=\"float: left; padding-right:1rem; padding-bottom:.5rem;\"></img>\n",
    "📝 [Jürgen Hermann](https://twitter.com/jhermann_) · 📧 jh@web.de\n",
    "<br />🗓️ March 2019\n",
    "\n",
    "*DevOps Intelligence* turns data from software development and delivery processes into actionable insight, just like BI does for the business side. Jupyter is the ideal instrument for that, with its combination of powerful coding environments and a user interface facilitating experimentation with ultra-short feedback cycles.\n",
    "<img src=\"img/jhub-logo-342px.png\" style=\"float: right; padding-left: 1em;\"></img>\n",
    "\n",
    "A Jupyter-based setup supports risk analysis and decision making within development and operations processes – typical business intelligence / data science procedures can be applied to the ‘business of making and running software’. The idea is to create feedback loops, and facilitate human decision making by automatically providing reliable input in form of up-to-date facts. After all development is our business — so let's have KPIs for developing, releasing, and operating software."
   ]
  }
  ]
}
