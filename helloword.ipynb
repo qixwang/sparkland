{
  "cells": [
  {
   "cell_type": "code",
   "metadata": {},
    "source": [
    "import numpy as np\n",
    "import pandas as pd\n",
    "\n",
    "raw_data = pd.read_csv(\"../data/cmdb-aoj.csv\", sep=',')\n",
    "print('♯ of Records: {}\\n'.format(len(raw_data)))\n",
    "\n",
    "for name in raw_data.columns[1:]:\n",
    "    if not name.startswith('Last '):\n",
    "        print(name, '=', list(sorted(set(raw_data[name].fillna('')))))\n",
    "\n",
    "print(); print(raw_data.head(3).transpose())"
   ]
  }
  ]
}
