{
  "cells": [
  {
   "cell_type": "code",
   "source": 
    [
    "import numpy as np\n",
    "import pandas as pd\n",
    "print('hello world'); print(raw_data.head(3).transpose())"
   ]
  }
  ]
}
